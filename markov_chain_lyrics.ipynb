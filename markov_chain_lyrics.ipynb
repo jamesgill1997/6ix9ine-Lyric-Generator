{
 "cells": [
  {
   "cell_type": "markdown",
   "metadata": {},
   "source": [
    "**Using GENIUS APIs to Write Artists Song Lines to File**"
   ]
  },
  {
   "cell_type": "code",
   "execution_count": 130,
   "metadata": {},
   "outputs": [],
   "source": [
    "import lyricsgenius as genius\n",
    "import json\n",
    "import markovify"
   ]
  },
  {
   "cell_type": "code",
   "execution_count": null,
   "metadata": {},
   "outputs": [],
   "source": [
    "artist_one = 'Elton John'\n",
    "artist_two = '6ix9ine'"
   ]
  },
  {
   "cell_type": "code",
   "execution_count": 131,
   "metadata": {},
   "outputs": [],
   "source": [
    "dash = '-'*60"
   ]
  },
  {
   "cell_type": "code",
   "execution_count": 139,
   "metadata": {},
   "outputs": [
    {
     "name": "stdout",
     "output_type": "stream",
     "text": [
      "Searching for songs by Elton John...\n",
      "\n",
      "Song 1: \"16th Century Man\"\n",
      "Song 2: \"71-75 New Oxford Street\"\n",
      "Song 3: \"Abide with Me\"\n",
      "Song 4: \"Act Of War\"\n",
      "Song 5: \"A Dandelion Dies in the Wind\"\n",
      "Song 6: \"A Dream Come True\"\n",
      "Song 7: \"A Dream Come True - 1825890\"\n",
      "Song 8: \"A Good Heart\"\n",
      "Song 9: \"Ain't Nothing Like The Real Thing\"\n",
      "Song 10: \"All Across the Havens\"\n",
      "Song 11: \"All Quiet On The Western Front\"\n",
      "Song 12: \"All That I'm Allowed (I'm Thankful)\"\n",
      "Song 13: \"All the Girls Love Alice\"\n",
      "Song 14: \"All the Nasties\"\n",
      "Song 15: \"All the Way Down to El Paso\"\n",
      "\n",
      "Reached user-specified song limit (15).\n",
      "Found 15 songs.\n",
      "Done.\n",
      "Searching for songs by 6ix9ine...\n",
      "\n",
      "Song 1: \"4769\"\n",
      "Song 2: \"69\"\n",
      "Song 3: \"93\"\n",
      "Song 4: \"Alright\"\n",
      "Song 5: \"BEBE\"\n",
      "Song 6: \"BILLY\"\n",
      "Song 7: \"Blood Walk\"\n",
      "Song 8: \"Blood Walk (Demo)\"\n",
      "Song 9: \"BRAIN FREESTYLE\"\n",
      "Song 10: \"BREAKIN IT DOWN\"\n",
      "Song 11: \"BUBA\"\n",
      "Song 12: \"CHOCOLATÉ\"\n",
      "Song 13: \"CRIMINAL*\"\n",
      "Song 14: \"DOOWEE\"\n",
      "Song 15: \"DUMMY\"\n",
      "\n",
      "Reached user-specified song limit (15).\n",
      "Found 15 songs.\n",
      "Done.\n"
     ]
    }
   ],
   "source": [
    "api = genius.Genius('uDarA9_cUEi8NgSiEliFR8Lu-TRl-sanYEfw1_fDNLRyejlgXDul2-QfYJZ4SvQF')\n",
    "artist_1 = api.search_artist(artist_one, max_songs=15)\n",
    "artist_2 = api.search_artist(artist_two, max_songs=15)"
   ]
  },
  {
   "cell_type": "code",
   "execution_count": 140,
   "metadata": {},
   "outputs": [
    {
     "name": "stdout",
     "output_type": "stream",
     "text": [
      "Wrote 15 songs to Lyrics_EltonJohn.json.\n",
      "SKIPPING \"Blood Walk (Demo)\" (already found in artist collection)\n",
      "Wrote 14 songs to Lyrics_6ix9ine.json.\n"
     ]
    }
   ],
   "source": [
    "artist_1.save_lyrics()\n",
    "artist_2.save_lyrics()\n",
    "\n",
    "with open('Lyrics_{}}.json'.format(artist_one.strip()), 'r') as fp:\n",
    "    obj_1 = json.load(fp)\n",
    "    \n",
    "with open('Lyrics_{}.json'.format(artist_two.strip()), 'r') as fp:\n",
    "    obj_2 = json.load(fp)"
   ]
  },
  {
   "cell_type": "code",
   "execution_count": 141,
   "metadata": {},
   "outputs": [],
   "source": [
    "with open('all_lyrics_1' + '.txt', 'a') as the_file:\n",
    "    for i in range(len(obj_1['songs'])):\n",
    "        the_file.write(obj_1['songs'][i]['lyrics'])\n",
    "        \n",
    "with open('all_lyrics_2' + '.txt', 'a') as the_file:\n",
    "    for i in range(len(obj_2['songs'])):\n",
    "        the_file.write(obj_2['songs'][i]['lyrics'])"
   ]
  },
  {
   "cell_type": "code",
   "execution_count": 151,
   "metadata": {},
   "outputs": [
    {
     "name": "stdout",
     "output_type": "stream",
     "text": [
      "VERSE ONE\n",
      "------------------------------------------------------------\n",
      "Everything you want's a dream that died by light of day\n",
      "So I'm gonna give you my heart beating\n",
      "Everything you want's a dream that died by light of day\n",
      "All I want to ride\n",
      "\n",
      "\n",
      "VERSE TWO\n",
      "------------------------------------------------------------\n",
      "Someone there to reach me?\n",
      "Animal I am lost\n",
      "Caught in the crumbling walls\n",
      "Say my heart beating\n",
      "You don't have to be your arms around me\n",
      "All I can feel my heart underneath my skin\n",
      "Blame it upon a rush of blood to the sky, I'm gonna find\n",
      "And there isn't a fire that I made all my excuses to you in return\n",
      "\n",
      "\n",
      "VERSE THREE\n",
      "------------------------------------------------------------\n",
      "If you want to be on your side now\n",
      "I put my hands up to the sky, I'm gonna buy a gun and start a war\n",
      "It's all I can feel my heart is my gun, army of one is gonna fight for you\n",
      "The whole world on a bridge, tied to a noose\n"
     ]
    }
   ],
   "source": [
    "text_1 = open(\"all_lyrics_jayz.txt\").read()\n",
    "text_2 = open(\"all_lyrics_ye.txt\").read()\n",
    "\n",
    "model_1 = markovify.NewlineText(text_1, state_size=2)\n",
    "model_2 = markovify.NewlineText(text_2, state_size=2)\n",
    "\n",
    "combined_model = markovify.combine([model_1, model_2], [1,2])\n",
    "\n",
    "print('VERSE ONE')\n",
    "print(dash)\n",
    "for i in range(4):\n",
    "    print(comment_model.make_sentence(tries=150))\n",
    "    \n",
    "print('\\n')\n",
    "\n",
    "print('VERSE TWO')\n",
    "print(dash)\n",
    "\n",
    "for i in range(8):\n",
    "    print(comment_model.make_sentence(tries=150))\n",
    "    \n",
    "print('\\n')\n",
    "\n",
    "print('VERSE THREE')\n",
    "print(dash)\n",
    "\n",
    "for i in range(4):\n",
    "    print(comment_model.make_sentence(tries=150))"
   ]
  }
 ],
 "metadata": {
  "kernelspec": {
   "display_name": "Python 3",
   "language": "python",
   "name": "python3"
  },
  "language_info": {
   "codemirror_mode": {
    "name": "ipython",
    "version": 3
   },
   "file_extension": ".py",
   "mimetype": "text/x-python",
   "name": "python",
   "nbconvert_exporter": "python",
   "pygments_lexer": "ipython3",
   "version": "3.6.5"
  }
 },
 "nbformat": 4,
 "nbformat_minor": 2
}
